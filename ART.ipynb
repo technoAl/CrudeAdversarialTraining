{
 "cells": [
  {
   "cell_type": "code",
   "execution_count": 1,
   "metadata": {},
   "outputs": [],
   "source": [
    "import tensorflow.compat.v1 as tf\n",
    "import numpy as np\n",
    "\n",
    "from art.attacks.evasion import FastGradientMethod\n",
    "from art.attacks.evasion import CarliniL2Method\n",
    "from art.attacks.evasion import DeepFool\n",
    "from art.estimators.classification import TensorFlowV2Classifier"
   ]
  },
  {
   "cell_type": "code",
   "execution_count": 2,
   "metadata": {},
   "outputs": [
    {
     "data": {
      "text/plain": [
       "(None, 28, 28)"
      ]
     },
     "execution_count": 2,
     "metadata": {},
     "output_type": "execute_result"
    }
   ],
   "source": [
    "mnist_model = tf.keras.models.load_model('models/mnist_model')\n",
    "mnist_model.input_shape"
   ]
  },
  {
   "cell_type": "code",
   "execution_count": 3,
   "metadata": {},
   "outputs": [],
   "source": [
    "loss_fn = tf.keras.losses.SparseCategoricalCrossentropy(from_logits=True)"
   ]
  },
  {
   "cell_type": "code",
   "execution_count": 4,
   "metadata": {},
   "outputs": [],
   "source": [
    "classifier = TensorFlowV2Classifier(\n",
    "    model=mnist_model,\n",
    "    nb_classes=10,\n",
    "    input_shape=mnist_model.input_shape,\n",
    "    loss_object=loss_fn\n",
    ")"
   ]
  },
  {
   "cell_type": "code",
   "execution_count": 5,
   "metadata": {},
   "outputs": [],
   "source": [
    "mnist = tf.keras.datasets.mnist\n",
    "\n",
    "(x_train, y_train), (x_test, y_test) = mnist.load_data()\n",
    "x_train, x_test = x_train / 255.0, x_test / 255.0"
   ]
  },
  {
   "cell_type": "code",
   "execution_count": 6,
   "metadata": {},
   "outputs": [],
   "source": [
    "attack = FastGradientMethod(estimator=classifier)"
   ]
  },
  {
   "cell_type": "code",
   "execution_count": 7,
   "metadata": {},
   "outputs": [],
   "source": [
    "x_test_adv = attack.generate(x=x_test)\n"
   ]
  },
  {
   "cell_type": "code",
   "execution_count": 8,
   "metadata": {
    "scrolled": true
   },
   "outputs": [
    {
     "name": "stdout",
     "output_type": "stream",
     "text": [
      "Accuracy on adversarial test examples: 2.55%\n"
     ]
    }
   ],
   "source": [
    "predictions = classifier.predict(x_test_adv)\n",
    "accuracy = np.sum(np.argmax(predictions, axis=1) == y_test) / len(y_test)\n",
    "print(\"Accuracy on adversarial test examples: {}%\".format(accuracy * 100))"
   ]
  },
  {
   "cell_type": "code",
   "execution_count": 9,
   "metadata": {
    "scrolled": true
   },
   "outputs": [
    {
     "data": {
      "application/vnd.jupyter.widget-view+json": {
       "model_id": "cf489d8b898e4009b5a628292cbd011c",
       "version_major": 2,
       "version_minor": 0
      },
      "text/plain": [
       "DeepFool:   0%|          | 0/10000 [00:00<?, ?it/s]"
      ]
     },
     "metadata": {},
     "output_type": "display_data"
    },
    {
     "name": "stdout",
     "output_type": "stream",
     "text": [
      "WARNING:tensorflow:Calling GradientTape.gradient on a persistent tape inside its context is significantly less efficient than calling it outside the context (it causes the gradient ops to be recorded on the tape, leading to increased CPU and memory usage). Only call GradientTape.gradient inside the context if you actually want to trace the gradient in order to compute higher order derivatives.\n"
     ]
    }
   ],
   "source": [
    "attackDF = DeepFool(classifier=classifier)\n",
    "x_test_df = attackDF.generate(x=x_test)"
   ]
  },
  {
   "cell_type": "code",
   "execution_count": 10,
   "metadata": {},
   "outputs": [
    {
     "name": "stdout",
     "output_type": "stream",
     "text": [
      "Accuracy on deep fool test examples: 9.379999999999999%\n"
     ]
    }
   ],
   "source": [
    "predictions = classifier.predict(x_test_df)\n",
    "accuracy = np.sum(np.argmax(predictions, axis=1) == np.argmax(y_test, axis=0)) / len(y_test)\n",
    "print(\"Accuracy on deep fool test examples: {}%\".format(accuracy * 100))"
   ]
  },
  {
   "cell_type": "code",
   "execution_count": 11,
   "metadata": {
    "scrolled": true
   },
   "outputs": [
    {
     "data": {
      "application/vnd.jupyter.widget-view+json": {
       "model_id": "434c42fe2139423a93efaf771a8d8a96",
       "version_major": 2,
       "version_minor": 0
      },
      "text/plain": [
       "C&W L_2:   0%|          | 0/10000 [00:00<?, ?it/s]"
      ]
     },
     "metadata": {},
     "output_type": "display_data"
    },
    {
     "name": "stdout",
     "output_type": "stream",
     "text": [
      "WARNING:tensorflow:Calling GradientTape.gradient on a persistent tape inside its context is significantly less efficient than calling it outside the context (it causes the gradient ops to be recorded on the tape, leading to increased CPU and memory usage). Only call GradientTape.gradient inside the context if you actually want to trace the gradient in order to compute higher order derivatives.\n"
     ]
    }
   ],
   "source": [
    "attackCW = CarliniL2Method(classifier=classifier)\n",
    "x_test_CW = attackCW.generate(x=x_test)"
   ]
  },
  {
   "cell_type": "code",
   "execution_count": 13,
   "metadata": {},
   "outputs": [
    {
     "name": "stdout",
     "output_type": "stream",
     "text": [
      "Accuracy on Carlini Wagner test examples: 15.98%\n"
     ]
    }
   ],
   "source": [
    "predictions = classifier.predict(x_test_CW)\n",
    "accuracy = np.sum(np.argmax(predictions, axis=1) == np.argmax(y_test, axis=0)) / len(y_test)\n",
    "print(\"Accuracy on Carlini Wagner test examples: {}%\".format(accuracy * 100))"
   ]
  },
  {
   "cell_type": "code",
   "execution_count": 10,
   "metadata": {},
   "outputs": [],
   "source": [
    "from matplotlib import pyplot as plt"
   ]
  },
  {
   "cell_type": "code",
   "execution_count": null,
   "metadata": {},
   "outputs": [],
   "source": []
  },
  {
   "cell_type": "code",
   "execution_count": 28,
   "metadata": {},
   "outputs": [
    {
     "data": {
      "image/png": "[encoded data removed]",
      "text/plain": [
       "<Figure size 432x288 with 1 Axes>"
      ]
     },
     "metadata": {
      "needs_background": "light"
     },
     "output_type": "display_data"
    },
    {
     "data": {
      "image/png": "[encoded data removed]",
      "text/plain": [
       "<Figure size 432x288 with 1 Axes>"
      ]
     },
     "metadata": {
      "needs_background": "light"
     },
     "output_type": "display_data"
    },
    {
     "data": {
      "image/png": "[encoded data removed]",
      "text/plain": [
       "<Figure size 432x288 with 1 Axes>"
      ]
     },
     "metadata": {
      "needs_background": "light"
     },
     "output_type": "display_data"
    },
    {
     "data": {
      "image/png": "[encoded data removed]",
      "text/plain": [
       "<Figure size 432x288 with 1 Axes>"
      ]
     },
     "metadata": {
      "needs_background": "light"
     },
     "output_type": "display_data"
    }
   ],
   "source": [
    "plt.imshow(x_test[0])\n",
    "plt.show()\n",
    "plt.imshow(x_test_adv[0])\n",
    "plt.show()\n",
    "plt.imshow(x_test_CW[0])\n",
    "plt.show()\n",
    "plt.imshow(x_test_df[0])\n",
    "plt.show()"
   ]
  },
  {
   "cell_type": "code",
   "execution_count": 29,
   "metadata": {},
   "outputs": [
    {
     "data": {
      "image/png": "[encoded data removed]",
      "text/plain": [
       "<Figure size 432x288 with 1 Axes>"
      ]
     },
     "metadata": {
      "needs_background": "light"
     },
     "output_type": "display_data"
    },
    {
     "data": {
      "image/png": "[encoded data removed]",
      "text/plain": [
       "<Figure size 432x288 with 1 Axes>"
      ]
     },
     "metadata": {
      "needs_background": "light"
     },
     "output_type": "display_data"
    },
    {
     "data": {
      "image/png": "[encoded data removed]",
      "text/plain": [
       "<Figure size 432x288 with 1 Axes>"
      ]
     },
     "metadata": {
      "needs_background": "light"
     },
     "output_type": "display_data"
    },
    {
     "data": {
      "image/png": "[encoded data removed]",
      "text/plain": [
       "<Figure size 432x288 with 1 Axes>"
      ]
     },
     "metadata": {
      "needs_background": "light"
     },
     "output_type": "display_data"
    }
   ],
   "source": [
    "x = 1\n",
    "plt.imshow(x_test[x])\n",
    "plt.show()\n",
    "plt.imshow(x_test_adv[x])\n",
    "plt.show()\n",
    "plt.imshow(x_test_CW[x])\n",
    "plt.show()\n",
    "plt.imshow(x_test_df[x])\n",
    "plt.show()"
   ]
  },
  {
   "cell_type": "code",
   "execution_count": 30,
   "metadata": {},
   "outputs": [
    {
     "data": {
      "image/png": "[encoded data removed]",
      "text/plain": [
       "<Figure size 432x288 with 1 Axes>"
      ]
     },
     "metadata": {
      "needs_background": "light"
     },
     "output_type": "display_data"
    },
    {
     "data": {
      "image/png": "[encoded data removed]",
      "text/plain": [
       "<Figure size 432x288 with 1 Axes>"
      ]
     },
     "metadata": {
      "needs_background": "light"
     },
     "output_type": "display_data"
    },
    {
     "data": {
      "image/png": "[encoded data removed]",
      "text/plain": [
       "<Figure size 432x288 with 1 Axes>"
      ]
     },
     "metadata": {
      "needs_background": "light"
     },
     "output_type": "display_data"
    },
    {
     "data": {
      "image/png": "[encoded data removed]",
      "text/plain": [
       "<Figure size 432x288 with 1 Axes>"
      ]
     },
     "metadata": {
      "needs_background": "light"
     },
     "output_type": "display_data"
    }
   ],
   "source": [
    "x = 2\n",
    "plt.imshow(x_test[x])\n",
    "plt.show()\n",
    "plt.imshow(x_test_adv[x])\n",
    "plt.show()\n",
    "plt.imshow(x_test_CW[x])\n",
    "plt.show()\n",
    "plt.imshow(x_test_df[x])\n",
    "plt.show()"
   ]
  },
  {
   "cell_type": "code",
   "execution_count": 31,
   "metadata": {},
   "outputs": [
    {
     "data": {
      "image/png": "[encoded data removed]",
      "text/plain": [
       "<Figure size 432x288 with 1 Axes>"
      ]
     },
     "metadata": {
      "needs_background": "light"
     },
     "output_type": "display_data"
    },
    {
     "data": {
      "image/png": "[encoded data removed]",
      "text/plain": [
       "<Figure size 432x288 with 1 Axes>"
      ]
     },
     "metadata": {
      "needs_background": "light"
     },
     "output_type": "display_data"
    },
    {
     "data": {
      "image/png": "[encoded data removed]",
      "text/plain": [
       "<Figure size 432x288 with 1 Axes>"
      ]
     },
     "metadata": {
      "needs_background": "light"
     },
     "output_type": "display_data"
    },
    {
     "data": {
      "image/png": "[encoded data removed]",
      "text/plain": [
       "<Figure size 432x288 with 1 Axes>"
      ]
     },
     "metadata": {
      "needs_background": "light"
     },
     "output_type": "display_data"
    }
   ],
   "source": [
    "x = 3\n",
    "plt.imshow(x_test[x])\n",
    "plt.show()\n",
    "plt.imshow(x_test_adv[x])\n",
    "plt.show()\n",
    "plt.imshow(x_test_CW[x])\n",
    "plt.show()\n",
    "plt.imshow(x_test_df[x])\n",
    "plt.show()"
   ]
  },
  {
   "cell_type": "code",
   "execution_count": 37,
   "metadata": {},
   "outputs": [],
   "source": [
    "with open('MNIST_Adversarial_Generated/MNISTFastGradient.npy', 'wb') as f:\n",
    "    np.save(f, x_test_adv)\n",
    "with open('MNIST_Adversarial_Generated/MNISTDeepFool.npy', 'wb') as f:\n",
    "    np.save(f, x_test_df)\n",
    "with open('MNIST_Adversarial_Generated/MNISTCarliniWagner.npy', 'wb') as f:\n",
    "    np.save(f, x_test_CW)"
   ]
  },
  {
   "cell_type": "code",
   "execution_count": 12,
   "metadata": {},
   "outputs": [
    {
     "data": {
      "image/png": "[encoded data removed]",
      "text/plain": [
       "<Figure size 432x288 with 1 Axes>"
      ]
     },
     "metadata": {
      "needs_background": "light"
     },
     "output_type": "display_data"
    },
    {
     "data": {
      "image/png": "[encoded data removed]",
      "text/plain": [
       "<Figure size 432x288 with 1 Axes>"
      ]
     },
     "metadata": {
      "needs_background": "light"
     },
     "output_type": "display_data"
    },
    {
     "data": {
      "image/png": "[encoded data removed]",
      "text/plain": [
       "<Figure size 432x288 with 1 Axes>"
      ]
     },
     "metadata": {
      "needs_background": "light"
     },
     "output_type": "display_data"
    },
    {
     "data": {
      "image/png": "[encoded data removed]",
      "text/plain": [
       "<Figure size 432x288 with 1 Axes>"
      ]
     },
     "metadata": {
      "needs_background": "light"
     },
     "output_type": "display_data"
    }
   ],
   "source": [
    "plt.imshow(x_test[0])\n",
    "plt.show()\n",
    "with open('MNIST_Adversarial_Generated/MNISTFastGradient.npy', 'rb') as f:\n",
    "    a = np.load(f)\n",
    "    plt.imshow(a[0])\n",
    "    plt.show()\n",
    "    \n",
    "with open('MNIST_Adversarial_Generated/MNISTDeepFool.npy', 'rb') as f:\n",
    "    a = np.load(f)\n",
    "    plt.imshow(a[0])\n",
    "    plt.show()\n",
    "with open('MNIST_Adversarial_Generated/MNISTCarliniWagner.npy', 'rb') as f:\n",
    "    a = np.load(f)\n",
    "    plt.imshow(a[0])\n",
    "    plt.show()"
   ]
  },
  {
   "cell_type": "code",
   "execution_count": 43,
   "metadata": {},
   "outputs": [
    {
     "name": "stdout",
     "output_type": "stream",
     "text": [
      "[[[-3.94273084e-03 -1.91409199e-04  2.29632729e-04 ...  1.18040130e-03\n",
      "   -9.32292780e-04 -3.33723496e-03]\n",
      "  [-7.02526129e-04  2.27904366e-03 -3.54117900e-03 ... -7.54678738e-04\n",
      "   -2.84751935e-04  3.81440530e-03]\n",
      "  [ 4.22641821e-03  2.80248327e-03 -4.79698472e-04 ... -2.44157296e-02\n",
      "   -2.46995338e-03  9.30009526e-04]\n",
      "  ...\n",
      "  [ 2.89968797e-03 -1.14551403e-04  3.13917994e-02 ...  1.55322123e-02\n",
      "   -1.24642383e-02  2.71565584e-03]\n",
      "  [ 2.23700493e-03  8.56053608e-04  1.57254937e-04 ... -1.01364776e-02\n",
      "   -2.61663721e-04 -6.71346323e-04]\n",
      "  [ 2.91015557e-03  4.08917153e-03 -4.60875500e-03 ...  7.45031459e-04\n",
      "   -5.74479112e-03 -3.12774698e-03]]\n",
      "\n",
      " [[ 8.82840808e-03 -5.85763436e-03  9.42602346e-05 ...  1.05556229e-03\n",
      "   -2.74652755e-03 -4.31109162e-04]\n",
      "  [-5.62253734e-03  3.62428208e-03 -5.22439880e-03 ... -3.98533605e-03\n",
      "   -6.05093967e-03 -4.77851648e-03]\n",
      "  [-3.66709521e-03 -1.23355479e-03  1.04651204e-03 ... -1.34608140e-02\n",
      "   -5.40306140e-03  5.98502485e-03]\n",
      "  ...\n",
      "  [-2.77352263e-03 -5.33643598e-03 -1.97077673e-02 ... -1.24492380e-03\n",
      "   -1.89524714e-03  1.20450638e-03]\n",
      "  [-5.15047880e-03  2.93167261e-03  4.47495468e-03 ...  7.22336769e-03\n",
      "    1.47831521e-03 -1.81232067e-03]\n",
      "  [-1.42156088e-03 -2.12534377e-03 -5.81044890e-03 ... -5.88178344e-04\n",
      "    1.36860972e-03 -1.12548948e-03]]\n",
      "\n",
      " [[-1.82752905e-03  4.65179747e-03  2.56229215e-03 ... -1.16227544e-03\n",
      "    2.25836877e-03 -3.03192204e-03]\n",
      "  [ 1.71453005e-03 -1.62625231e-03 -3.09806992e-03 ...  1.72606832e-03\n",
      "    1.74345667e-04 -2.76132661e-04]\n",
      "  [ 6.03736471e-03 -4.77953209e-03 -4.02971491e-04 ... -9.93822422e-03\n",
      "    5.36345935e-04 -2.76130944e-04]\n",
      "  ...\n",
      "  [-5.69309166e-04 -3.09392228e-03 -4.68407263e-04 ... -1.38875330e-02\n",
      "   -1.02180345e-02 -6.92328496e-04]\n",
      "  [ 8.36364343e-04 -5.88865764e-03 -4.73550847e-03 ... -5.72356535e-03\n",
      "   -3.25777015e-04  2.22687703e-03]\n",
      "  [-1.10409257e-03  2.29466916e-03  1.69843750e-03 ...  3.49468016e-03\n",
      "   -2.14798423e-03 -3.06333089e-03]]\n",
      "\n",
      " ...\n",
      "\n",
      " [[ 1.22114364e-03 -1.58759207e-03  4.89944323e-05 ... -1.61218911e-03\n",
      "   -6.46462385e-03 -1.52499613e-03]\n",
      "  [-3.52612231e-04 -3.79174296e-03 -4.56083287e-03 ...  9.61789163e-04\n",
      "    5.35409804e-03  9.45502543e-04]\n",
      "  [-4.15338855e-03  1.24170794e-03  3.13016144e-03 ...  5.36888605e-03\n",
      "    7.50818010e-03  1.95379998e-03]\n",
      "  ...\n",
      "  [-1.18936540e-03  1.66106946e-03  1.05460081e-02 ... -1.05480419e-03\n",
      "   -7.16065010e-03  1.13967084e-03]\n",
      "  [ 8.73944070e-03 -5.49183879e-03  4.42248397e-03 ... -1.90469669e-03\n",
      "    2.37718271e-03  2.92871566e-03]\n",
      "  [ 1.45397999e-03  5.44579176e-04 -2.13985750e-03 ... -3.07938200e-03\n",
      "    3.60665750e-03 -1.63670292e-03]]\n",
      "\n",
      " [[ 4.78238333e-03 -4.99637472e-03  3.44937434e-03 ...  3.16101685e-03\n",
      "    5.04813949e-03  6.05463609e-03]\n",
      "  [-9.57538214e-05  1.07438932e-03  1.45941484e-03 ... -1.97679712e-03\n",
      "    3.23871011e-03  6.98824134e-03]\n",
      "  [ 7.91169330e-03 -5.88884717e-03  3.86896823e-03 ...  1.26166968e-02\n",
      "    1.71493652e-04 -2.82815425e-03]\n",
      "  ...\n",
      "  [ 3.82496766e-03 -7.34814676e-03  2.99634691e-03 ... -6.34182617e-03\n",
      "    1.44269671e-02 -4.40166518e-03]\n",
      "  [ 3.82794626e-03 -4.18627542e-03  1.12961065e-02 ... -7.89017789e-03\n",
      "    6.62371516e-03 -9.99387703e-04]\n",
      "  [-3.66503652e-03 -7.26352260e-03 -1.95537671e-03 ...  3.34373093e-03\n",
      "    2.90746742e-04 -1.08674366e-03]]\n",
      "\n",
      " [[-2.28080992e-03  4.21554502e-03  8.51205178e-03 ... -1.31076705e-02\n",
      "    6.61103940e-03  3.52785829e-03]\n",
      "  [ 1.32157258e-03  5.15127741e-03 -9.00639314e-03 ...  4.86115785e-03\n",
      "   -1.24686875e-03  4.19330737e-03]\n",
      "  [ 2.07818765e-03 -5.88403828e-03 -8.28757510e-03 ... -7.70039624e-03\n",
      "   -7.00324017e-04 -1.05417734e-02]\n",
      "  ...\n",
      "  [-8.41332774e-04 -2.71452661e-03 -1.64091084e-02 ... -1.23808160e-02\n",
      "   -7.46184681e-03  3.19204264e-05]\n",
      "  [-2.42324756e-03  6.33568969e-03 -2.54205824e-03 ... -2.91423057e-04\n",
      "    3.52289673e-04  3.59051744e-03]\n",
      "  [ 5.31897601e-03  4.64814622e-03  8.06478411e-03 ... -6.09619427e-04\n",
      "   -1.90872455e-03 -3.96166090e-03]]]\n"
     ]
    }
   ],
   "source": []
  },
  {
   "cell_type": "code",
   "execution_count": null,
   "metadata": {},
   "outputs": [],
   "source": []
  },
  {
   "cell_type": "code",
   "execution_count": null,
   "metadata": {},
   "outputs": [],
   "source": []
  }
 ],
 "metadata": {
  "kernelspec": {
   "display_name": "Python 3",
   "language": "python",
   "name": "python3"
  },
  "language_info": {
   "codemirror_mode": {
    "name": "ipython",
    "version": 3
   },
   "file_extension": ".py",
   "mimetype": "text/x-python",
   "name": "python",
   "nbconvert_exporter": "python",
   "pygments_lexer": "ipython3",
   "version": "3.6.8"
  }
 },
 "nbformat": 4,
 "nbformat_minor": 4
}
